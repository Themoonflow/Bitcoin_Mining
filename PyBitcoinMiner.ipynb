{
 "cells": [
  {
   "cell_type": "markdown",
   "id": "01bc8f90",
   "metadata": {},
   "source": [
    "# 1 Setup Env"
   ]
  },
  {
   "cell_type": "code",
   "execution_count": 5,
   "id": "fd0c061a",
   "metadata": {},
   "outputs": [],
   "source": [
    "import time\n",
    "import json\n",
    "import pprint\n",
    "import hashlib\n",
    "import struct\n",
    "import re\n",
    "import base64\n",
    "import sys\n",
    "from multiprocessing import Process"
   ]
  },
  {
   "cell_type": "code",
   "execution_count": 6,
   "id": "2a9fbbb6",
   "metadata": {},
   "outputs": [],
   "source": [
    "import http.client as httplib"
   ]
  },
  {
   "cell_type": "code",
   "execution_count": 8,
   "id": "753a3a5a",
   "metadata": {},
   "outputs": [],
   "source": [
    "ERR_SLEEP = 15\n",
    "MAX_NONCE = 1000000"
   ]
  },
  {
   "cell_type": "code",
   "execution_count": null,
   "id": "f8179623",
   "metadata": {},
   "outputs": [],
   "source": []
  }
 ],
 "metadata": {
  "kernelspec": {
   "display_name": "Python 3",
   "language": "python",
   "name": "python3"
  },
  "language_info": {
   "codemirror_mode": {
    "name": "ipython",
    "version": 3
   },
   "file_extension": ".py",
   "mimetype": "text/x-python",
   "name": "python",
   "nbconvert_exporter": "python",
   "pygments_lexer": "ipython3",
   "version": "3.8.3"
  }
 },
 "nbformat": 4,
 "nbformat_minor": 5
}
